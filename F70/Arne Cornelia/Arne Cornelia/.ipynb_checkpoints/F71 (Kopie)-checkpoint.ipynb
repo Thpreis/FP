{
 "cells": [
  {
   "cell_type": "markdown",
   "metadata": {},
   "source": [
    "# Vakuum"
   ]
  },
  {
   "cell_type": "code",
   "execution_count": 1,
   "metadata": {
    "collapsed": false
   },
   "outputs": [
    {
     "ename": "ImportError",
     "evalue": "No module named 'uncertainties'",
     "output_type": "error",
     "traceback": [
      "\u001b[0;31m---------------------------------------------------------------------------\u001b[0m",
      "\u001b[0;31mImportError\u001b[0m                               Traceback (most recent call last)",
      "\u001b[0;32m<ipython-input-1-cc2b1f805243>\u001b[0m in \u001b[0;36m<module>\u001b[0;34m()\u001b[0m\n\u001b[1;32m      2\u001b[0m \u001b[0mget_ipython\u001b[0m\u001b[1;33m(\u001b[0m\u001b[1;33m)\u001b[0m\u001b[1;33m.\u001b[0m\u001b[0mmagic\u001b[0m\u001b[1;33m(\u001b[0m\u001b[1;34m\"config InlineBackend.figure_format = 'svg'\"\u001b[0m\u001b[1;33m)\u001b[0m\u001b[1;33m\u001b[0m\u001b[0m\n\u001b[1;32m      3\u001b[0m \u001b[1;32mimport\u001b[0m \u001b[0mnumpy\u001b[0m \u001b[1;32mas\u001b[0m \u001b[0mnp\u001b[0m\u001b[1;33m\u001b[0m\u001b[0m\n\u001b[0;32m----> 4\u001b[0;31m \u001b[1;32mfrom\u001b[0m \u001b[0muncertainties\u001b[0m \u001b[1;32mimport\u001b[0m \u001b[0mufloat\u001b[0m\u001b[1;33m\u001b[0m\u001b[0m\n\u001b[0m\u001b[1;32m      5\u001b[0m \u001b[1;32mfrom\u001b[0m \u001b[0muncertainties\u001b[0m\u001b[1;33m.\u001b[0m\u001b[0munumpy\u001b[0m \u001b[1;32mimport\u001b[0m \u001b[0muarray\u001b[0m\u001b[1;33m\u001b[0m\u001b[0m\n\u001b[1;32m      6\u001b[0m \u001b[1;32mimport\u001b[0m \u001b[0mmatplotlib\u001b[0m\u001b[1;33m.\u001b[0m\u001b[0mpyplot\u001b[0m \u001b[1;32mas\u001b[0m \u001b[0mplt\u001b[0m\u001b[1;33m\u001b[0m\u001b[0m\n",
      "\u001b[0;31mImportError\u001b[0m: No module named 'uncertainties'"
     ]
    }
   ],
   "source": [
    "%matplotlib inline\n",
    "%config InlineBackend.figure_format = 'svg'\n",
    "import numpy as np\n",
    "from uncertainties import ufloat\n",
    "from uncertainties.unumpy import uarray\n",
    "import matplotlib.pyplot as plt\n",
    "from scipy.odr import RealData\n",
    "import sys; sys.path.append('../../'); import tools\n",
    "from IPython.display import display, Math, Latex"
   ]
  },
  {
   "cell_type": "markdown",
   "metadata": {
    "collapsed": true
   },
   "source": [
    "## 1. Saugvermögen der TMP"
   ]
  },
  {
   "cell_type": "code",
   "execution_count": null,
   "metadata": {
    "collapsed": false
   },
   "outputs": [],
   "source": [
    "p_norm = 1013.25 # Normaldruck in h? Pa\n",
    "\n",
    "# Kapillare\n",
    "p_ka = uarray(\n",
    "    [2.1e-5, 3.2e-5, 1.0e-4, 3.2e-4, 1.0e-3, 3.2e-3],\n",
    "    [0.2e-5, 0.1e-5, 0.1e-4, 0.1e-4, 0.1e-3, 0.1e-3])\n",
    "\n",
    "V_ka_norm = uarray(\n",
    "    [0.04, 0.04, 0.04, 0.1, 0.3, 0.5],0) * 1e-3\n",
    "V_ka = (p_norm/p_ka) * V_ka_norm\n",
    "\n",
    "t1_ka = uarray(\n",
    "    [143.7, 50.7, 11.5, 8.3, 7.6, 4.2],\n",
    "    [  3.0,  2.0,  0.5, 0.5, 0.5, 0.3])\n",
    "t2_ka = uarray(\n",
    "    [136.7, 46.4, 11.5, 8.1, 7.5, 3.9],\n",
    "    [  3.0,  2.0,  0.5, 0.5, 0.5, 0.3])\n",
    "t_ka = (t1_ka + t2_ka)/2\n",
    "\n",
    "# Kolben\n",
    "p_ko = uarray(\n",
    "    [3.2e-3, 1.0e-2, 3.3e-2, 1.0e-1, 3.2e-1, 1.0],\n",
    "    [0.1e-3, 0.1e-2, 0.1e-2, 0.1e-1, 0.1e-1, 0.1])\n",
    "\n",
    "V_ko_norm = uarray(\n",
    "    [5, 15, 15, 20, 20, 20],0) * 1e-3\n",
    "V_ko = (p_norm/p_ko) * V_ko_norm\n",
    "\n",
    "t1_ko = uarray(\n",
    "    [37.5, 42.2, 16.7, 12.6, 8.5, 5.1],\n",
    "    [ 0.5,  1.0,  0.5,  0.5, 0.5, 0.3])\n",
    "t2_ko = uarray(\n",
    "    [37.5, 42.1, 17.7, 12.4, 8.5, 5.1],\n",
    "    [ 0.5,  1.0,  0.5,  0.5, 0.5, 0.3])\n",
    "t_ko = (t1_ko + t2_ko)/2"
   ]
  },
  {
   "cell_type": "code",
   "execution_count": null,
   "metadata": {
    "collapsed": true
   },
   "outputs": [],
   "source": [
    "S_ka = V_ka / t_ka\n",
    "S_ko = V_ko / t_ko"
   ]
  },
  {
   "cell_type": "code",
   "execution_count": null,
   "metadata": {
    "collapsed": false
   },
   "outputs": [],
   "source": [
    "dat_ka = tools.data(p_ka, S_ka)\n",
    "dat_ko = tools.data(p_ko, S_ko)\n",
    "ax = tools.Axes(title=('Diagramm 1', 'Saugvermögen'),\n",
    "                ylabel=r'Saugvermögen $E\\,[\\mathrm{l/s}]$',\n",
    "                xlabel=r'Pumpendruck $p\\,[\\mathrm{hPa}]$',\n",
    "                logx=True)\n",
    "ax.addPlot(dat_ka,marker=\".\", label=\"Messpunkte Kapillare\")\n",
    "ax.addPlot(dat_ko,marker=\"d\", label=\"Messpunkte Kolben\")\n",
    "ax.addLegend()\n",
    "#plt.savefig('1_saugvermoegen.png', bbox_inches='tight')"
   ]
  },
  {
   "cell_type": "code",
   "execution_count": null,
   "metadata": {
    "collapsed": false
   },
   "outputs": [],
   "source": [
    "S = np.append(S_ka,S_ko[1:]) # Saugvermögen\n",
    "p = np.append(p_ka,p_ko[1:])\n",
    "Q = S * p / 100 # Saugleistung\n",
    "S.max().format('P')"
   ]
  },
  {
   "cell_type": "markdown",
   "metadata": {},
   "source": [
    "## 2. Leitwerte"
   ]
  },
  {
   "cell_type": "code",
   "execution_count": null,
   "metadata": {
    "collapsed": false
   },
   "outputs": [],
   "source": [
    "# Blende\n",
    "p_blende = uarray(\n",
    "    [1.6e-3, 2.6e-3, 8.1e-3, 2.4e-2, 7.1e-2, 1.8e-1, 4.5e-1, 9.5e-1, 1.7, 2.7, 4.4],\n",
    "    [0.1e-3, 0.1e-3, 0.1e-3, 0.1e-2, 0.1e-2, 0.1e-1, 0.1e-1, 0.1e-1, 0.1, 0.1, 0.1])\n",
    "L_blende = Q / ((p_blende-p)/100)"
   ]
  },
  {
   "cell_type": "code",
   "execution_count": null,
   "metadata": {
    "collapsed": false
   },
   "outputs": [],
   "source": [
    "r_blende = ufloat(2e-3,0.1e-3)/2 # [m]\n",
    "L_blende_theo = 362*r_blende**2 * 1000 # [l/s]"
   ]
  },
  {
   "cell_type": "code",
   "execution_count": null,
   "metadata": {
    "collapsed": false
   },
   "outputs": [],
   "source": [
    "ax = tools.Axes(title=('Diagramm 2a', 'Leitwert Blende'),\n",
    "                ylabel=r'Leitwert $L\\,[\\mathrm{l/s}]$',\n",
    "                xlabel=r'Pumpendruck $p\\,[\\mathrm{hPa}]$',\n",
    "                logx=True,logy=True)\n",
    "ax.addPlot((p,L_blende),marker=\".\", label=\"Blende\")\n",
    "ax.addFunc(lambda x: L_blende_theo, (0,10), label=\"theoretisch\")\n",
    "ax.addLegend()\n",
    "#plt.savefig('2a_L_blende.png', bbox_inches='tight')\n",
    "L_blende_theo.format(\"P\")"
   ]
  },
  {
   "cell_type": "code",
   "execution_count": null,
   "metadata": {
    "collapsed": true
   },
   "outputs": [],
   "source": [
    "# Rohr\n",
    "p_rohr = uarray(\n",
    "    [1.3e-4, 6.2e-4, 3.8e-3, 1.2e-2, 3.3e-2, 7.1e-2, 1.4e-1, 2.3e-1, 3.2e-1, 4.3e-1, 6.9e-1],\n",
    "    [0.1e-4, 0.1e-4, 0.1e-3, 0.1e-2, 0.1e-2, 0.1e-2, 0.1e-1, 0.1e-1, 0.1e-1, 0.1e-1, 0.1e-1])\n",
    "L_rohr = Q / ((p_rohr-p)/100)"
   ]
  },
  {
   "cell_type": "code",
   "execution_count": null,
   "metadata": {
    "collapsed": true
   },
   "outputs": [],
   "source": [
    "r_rohr = ufloat(1.95e-2,0.05e-2)/2\n",
    "l_rohr = ufloat(1,0.005)\n",
    "L_rohr_theo = (8/3)*362*(r_rohr**3/l_rohr) * 1000 # in l/s"
   ]
  },
  {
   "cell_type": "code",
   "execution_count": null,
   "metadata": {
    "collapsed": false
   },
   "outputs": [],
   "source": [
    "# Viskosität Luft\n",
    "eta = 17.1e-8 # [hPa s]\n",
    "from math import pi\n",
    "L_rohr_theo_lam = (pi/8)*r_rohr**4*(((p_rohr+p)/2)/(eta*l_rohr)) * 1000"
   ]
  },
  {
   "cell_type": "code",
   "execution_count": null,
   "metadata": {
    "collapsed": false
   },
   "outputs": [],
   "source": [
    "ax = tools.Axes(title=('Diagramm 2b', 'Leitwert Rohr'),\n",
    "                ylabel=r'Leitwert $L\\,[\\mathrm{l/s}]$',\n",
    "                xlabel=r'Pumpendruck $p\\,[\\mathrm{hPa}]$',\n",
    "                logx=True,logy=True)\n",
    "ax.addPlot((p[:],L_rohr[:]),marker=\".\", label=\"Rohr\")\n",
    "ax.addFunc(lambda x: L_rohr_theo, (0,10), label=\"theoretisch\")\n",
    "ax.addPlot((p[5:],L_rohr_theo_lam[5:]),marker=\"x\", label=\"theoretisch lam.\")\n",
    "ax.addLegend()\n",
    "#plt.savefig('2b_L_rohr.png', bbox_inches='tight')\n",
    "L_rohr_theo.format(\"P\")"
   ]
  },
  {
   "cell_type": "code",
   "execution_count": null,
   "metadata": {
    "collapsed": true
   },
   "outputs": [],
   "source": [
    "p_blende_rohr = uarray(\n",
    "    [2.5e-3, 3.7e-3, 1.2e-2, 3.7e-2, 9.2e-2, 2.0e-1, 4.6e-1, 9.7e-1, 1.7, 2.7, 4.5],\n",
    "    [0.1e-3, 0.1e-3, 0.1e-2, 0.1e-2, 0.1e-2, 0.1e-1, 0.1e-1, 0.1e-1, 0.1, 0.1, 0.1])\n",
    "L_blende_rohr = Q / ((p_blende_rohr-p)/100)"
   ]
  },
  {
   "cell_type": "code",
   "execution_count": null,
   "metadata": {
    "collapsed": true
   },
   "outputs": [],
   "source": [
    "L_blende_rohr_theo = 1/(1/L_blende_theo + 1/L_rohr_theo)"
   ]
  },
  {
   "cell_type": "code",
   "execution_count": null,
   "metadata": {
    "collapsed": false
   },
   "outputs": [],
   "source": [
    "ax = tools.Axes(title=('Diagramm 2c', 'Leitwert Blende + Rohr'),\n",
    "                ylabel=r'Leitwert $L\\,[\\mathrm{l/s}]$',\n",
    "                xlabel=r'Pumpendruck $p\\,[\\mathrm{mbar}]$',\n",
    "                logx=True,logy=True)\n",
    "ax.addPlot((p,L_blende_rohr),marker=\"x\", label=\"Blende + Rohr\")\n",
    "ax.addFunc(lambda x: L_blende_rohr_theo, (0,10), label=\"theoretisch\")\n",
    "ax.addLegend()\n",
    "#plt.savefig('2c_L_blende_rohr.png', bbox_inches='tight')\n",
    "L_blende_rohr_theo.format(\"P\")"
   ]
  },
  {
   "cell_type": "code",
   "execution_count": null,
   "metadata": {
    "collapsed": false
   },
   "outputs": [],
   "source": [
    "ax = tools.Axes(title=('Diagramm 2', 'Leitwerte'),\n",
    "                ylabel=r'Leitwert $L\\,[\\mathrm{l/s}]$',\n",
    "                xlabel=r'Pumpendruck $p\\,[\\mathrm{mbar}]$',\n",
    "                logx=True,logy=True)\n",
    "ax.addPlot((p[:-2],L_rohr[0:-2]),marker=\".\", label=\"Rohr\")\n",
    "ax.addPlot((p,L_blende),marker=\".\", label=\"Blende\")\n",
    "ax.addPlot((p,L_blende_rohr),marker=\"x\", label=\"Blende + Rohr\")\n",
    "ax.addPlot((p,1/(1/L_blende + 1/L_rohr)),marker=\"d\", label=\"Blende + Rohr reziprok addiert\")\n",
    "ax.addLegend()\n",
    "#plt.savefig('2_leitwerte.png', bbox_inches='tight')"
   ]
  },
  {
   "cell_type": "code",
   "execution_count": null,
   "metadata": {
    "collapsed": false
   },
   "outputs": [],
   "source": [
    "a = ufloat(4,0.01)\n",
    "b = ufloat(7,0.03)\n"
   ]
  },
  {
   "cell_type": "code",
   "execution_count": null,
   "metadata": {
    "collapsed": false
   },
   "outputs": [],
   "source": [
    "arr = uarray([4.5,76.5], 0.2)\n",
    "arr/a"
   ]
  },
  {
   "cell_type": "code",
   "execution_count": null,
   "metadata": {
    "collapsed": true
   },
   "outputs": [],
   "source": []
  }
 ],
 "metadata": {
  "anaconda-cloud": {},
  "kernelspec": {
   "display_name": "Python [default]",
   "language": "python",
   "name": "python3"
  },
  "language_info": {
   "codemirror_mode": {
    "name": "ipython",
    "version": 3
   },
   "file_extension": ".py",
   "mimetype": "text/x-python",
   "name": "python",
   "nbconvert_exporter": "python",
   "pygments_lexer": "ipython3",
   "version": "3.5.2"
  }
 },
 "nbformat": 4,
 "nbformat_minor": 0
}
