{
 "cells": [
  {
   "cell_type": "code",
   "execution_count": 1,
   "metadata": {
    "collapsed": true
   },
   "outputs": [],
   "source": [
    "import numpy as np"
   ]
  },
  {
   "cell_type": "code",
   "execution_count": 3,
   "metadata": {
    "collapsed": false
   },
   "outputs": [
    {
     "name": "stdout",
     "output_type": "stream",
     "text": [
      "1.14242349544e-05\n"
     ]
    }
   ],
   "source": [
    "hbar = 6.582*10**(-16) #in ev*s\n",
    "mc2 = 105.6583745*10**6 # in eV\n",
    "tau = 2.28*10**(-6) # in s\n",
    "GF = np.sqrt(192*np.pi**3*hbar/(tau*mc2**5))\n",
    "print(GF*10**18)"
   ]
  },
  {
   "cell_type": "code",
   "execution_count": 5,
   "metadata": {
    "collapsed": false
   },
   "outputs": [
    {
     "name": "stdout",
     "output_type": "stream",
     "text": [
      "2.50531468299e-07\n",
      "1.10233846052e-06\n"
     ]
    }
   ],
   "source": [
    "dGFstat = GF*10**18*0.05/2.28\n",
    "dGFsys = GF*10**18*0.22/2.28\n",
    "print(dGFstat)\n",
    "print(dGFsys)"
   ]
  },
  {
   "cell_type": "code",
   "execution_count": 10,
   "metadata": {
    "collapsed": false
   },
   "outputs": [
    {
     "name": "stdout",
     "output_type": "stream",
     "text": [
      "3.822822774999999e-26\n",
      "2.6364295e-27 3.9546442499999994e-27\n"
     ]
    }
   ],
   "source": [
    "hbar = 1.0545718*10**(-34)\n",
    "g = 2\n",
    "B = 4*10**(-3)\n",
    "omegaL = 2.9*10**6\n",
    "\n",
    "mu = hbar*omegaL/(g*B)\n",
    "print(mu)\n",
    "dmustat = mu*0.2/2.9\n",
    "dmusys = mu * 0.3/2.9\n",
    "print(dmustat,dmusys)"
   ]
  },
  {
   "cell_type": "code",
   "execution_count": 11,
   "metadata": {
    "collapsed": false
   },
   "outputs": [
    {
     "data": {
      "text/plain": [
       "0.35459376574234736"
      ]
     },
     "execution_count": 11,
     "metadata": {},
     "output_type": "execute_result"
    }
   ],
   "source": [
    "(2.28-2.2)/(np.sqrt(0.05**2+0.22**2))"
   ]
  },
  {
   "cell_type": "code",
   "execution_count": 12,
   "metadata": {
    "collapsed": false
   },
   "outputs": [
    {
     "data": {
      "text/plain": [
       "1.4294197364265528"
      ]
     },
     "execution_count": 12,
     "metadata": {},
     "output_type": "execute_result"
    }
   ],
   "source": [
    "(4.49-3.82)/(np.sqrt(0.26**2+0.39**2))"
   ]
  },
  {
   "cell_type": "code",
   "execution_count": null,
   "metadata": {
    "collapsed": true
   },
   "outputs": [],
   "source": []
  }
 ],
 "metadata": {
  "kernelspec": {
   "display_name": "Python 3",
   "language": "python",
   "name": "python3"
  },
  "language_info": {
   "codemirror_mode": {
    "name": "ipython",
    "version": 3
   },
   "file_extension": ".py",
   "mimetype": "text/x-python",
   "name": "python",
   "nbconvert_exporter": "python",
   "pygments_lexer": "ipython3",
   "version": "3.6.0"
  }
 },
 "nbformat": 4,
 "nbformat_minor": 2
}
