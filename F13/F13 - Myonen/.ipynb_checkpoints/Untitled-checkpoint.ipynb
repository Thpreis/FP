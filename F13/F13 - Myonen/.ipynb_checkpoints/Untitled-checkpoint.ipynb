{
 "cells": [
  {
   "cell_type": "code",
   "execution_count": 1,
   "metadata": {
    "collapsed": true
   },
   "outputs": [],
   "source": [
    "import numpy as np"
   ]
  },
  {
   "cell_type": "code",
   "execution_count": 3,
   "metadata": {
    "collapsed": false
   },
   "outputs": [
    {
     "name": "stdout",
     "output_type": "stream",
     "text": [
      "1.14242349544e-05\n"
     ]
    }
   ],
   "source": [
    "hbar = 6.582*10**(-16) #in ev*s\n",
    "mc2 = 105.6583745*10**6 # in eV\n",
    "tau = 2.28*10**(-6) # in s\n",
    "GF = np.sqrt(192*np.pi**3*hbar/(tau*mc2**5))\n",
    "print(GF*10**18)"
   ]
  },
  {
   "cell_type": "code",
   "execution_count": 5,
   "metadata": {
    "collapsed": false
   },
   "outputs": [
    {
     "name": "stdout",
     "output_type": "stream",
     "text": [
      "2.50531468299e-07\n",
      "1.10233846052e-06\n"
     ]
    }
   ],
   "source": [
    "dGFstat = GF*10**18*0.05/2.28\n",
    "dGFsys = GF*10**18*0.22/2.28\n",
    "print(dGFstat)\n",
    "print(dGFsys)"
   ]
  },
  {
   "cell_type": "code",
   "execution_count": null,
   "metadata": {
    "collapsed": true
   },
   "outputs": [],
   "source": [
    "hbar = 1.0545718*10**(-34)\n",
    "g = 2\n",
    "B = 0.04"
   ]
  }
 ],
 "metadata": {
  "kernelspec": {
   "display_name": "Python 3",
   "language": "python",
   "name": "python3"
  },
  "language_info": {
   "codemirror_mode": {
    "name": "ipython",
    "version": 3
   },
   "file_extension": ".py",
   "mimetype": "text/x-python",
   "name": "python",
   "nbconvert_exporter": "python",
   "pygments_lexer": "ipython3",
   "version": "3.6.0"
  }
 },
 "nbformat": 4,
 "nbformat_minor": 2
}
