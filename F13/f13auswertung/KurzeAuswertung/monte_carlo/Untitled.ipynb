{
 "cells": [
  {
   "cell_type": "code",
   "execution_count": 1,
   "metadata": {
    "collapsed": true
   },
   "outputs": [],
   "source": [
    "import numpy as np\n",
    "import random\n",
    "import matplotlib.pyplot as plt\n",
    "%matplotlib inline"
   ]
  },
  {
   "cell_type": "code",
   "execution_count": 2,
   "metadata": {
    "collapsed": false
   },
   "outputs": [],
   "source": [
    "def getRandom():\n",
    "    while True:\n",
    "        x = 2*random.random()-1\n",
    "        y = 2*random.random()-1\n",
    "        z = random.random()\n",
    "        r = np.sqrt(x**2+y**2+z**2)\n",
    "        if r < 1:\n",
    "            return np.arccos(z/r),np.arctan(y/x) #theta,phi"
   ]
  },
  {
   "cell_type": "code",
   "execution_count": 8,
   "metadata": {
    "collapsed": false
   },
   "outputs": [],
   "source": [
    "def mf(th):\n",
    "    return th/2+1/4*np.sin(2*th)\n",
    "def A(th,phi,h):\n",
    "    a = l-h*abs(np.sin(phi))*np.tan(th)\n",
    "    b = w-h*abs(np.cos(phi))*np.tan(th)\n",
    "    if a > 0 and b > 0:\n",
    "        return a*b\n",
    "    return 0"
   ]
  },
  {
   "cell_type": "code",
   "execution_count": 9,
   "metadata": {
    "collapsed": false
   },
   "outputs": [
    {
     "name": "stdout",
     "output_type": "stream",
     "text": [
      "[0.14500000000000002, 0.23499999999999999, 0.33499999999999996, 0.43000000000000005, 0.52000000000000002]\n"
     ]
    }
   ],
   "source": [
    "h1 = np.array([99.5,85.0,76.0,66.0,56.5,47.5,37.5])/100\n",
    "h = [h1[0]-h1[i+1] for i in range(5)]\n",
    "w= 0.325\n",
    "l = 0.82\n",
    "eff = [1,0.962,0.961,0.916,0.95]\n",
    "print(h)"
   ]
  },
  {
   "cell_type": "code",
   "execution_count": 10,
   "metadata": {
    "collapsed": false
   },
   "outputs": [
    {
     "name": "stdout",
     "output_type": "stream",
     "text": [
      "[57540.312130005645, 33697.602236608873, 20885.786099119337, 13337.779447762667, 9828.8097675676763]\n",
      "[ 1.          0.58563468  0.36297659  0.23179887  0.17081607]\n"
     ]
    }
   ],
   "source": [
    "rates = [0,0,0,0,0]\n",
    "for i in range(1000000):\n",
    "    th,phi = getRandom()\n",
    "    for j in range(5):\n",
    "        rates[j] += mf(th)*A(th,phi,h[j])*eff[j]\n",
    "print(rates)\n",
    "rates = rates/rates[0]\n",
    "print(rates)\n"
   ]
  },
  {
   "cell_type": "code",
   "execution_count": 11,
   "metadata": {
    "collapsed": false
   },
   "outputs": [
    {
     "name": "stdout",
     "output_type": "stream",
     "text": [
      "[ 1.          0.58563468  0.36297659  0.23179887  0.17081607]\n"
     ]
    },
    {
     "data": {
      "image/png": "[encoded data removed]",
      "text/plain": [
       "<matplotlib.figure.Figure at 0x7f4e7b5a2048>"
      ]
     },
     "metadata": {},
     "output_type": "display_data"
    }
   ],
   "source": [
    "plt.scatter([1,2,3,4,5],rates)\n",
    "plt.title(\"expected relative Rate due to detector geometry\")\n",
    "plt.xlabel(\"scintillator number\")\n",
    "plt.ylabel(\"relative Rate\")\n",
    "plt.savefig('figures/relativeRate.pdf',format='pdf')\n",
    "print(rates)"
   ]
  },
  {
   "cell_type": "code",
   "execution_count": 28,
   "metadata": {
    "collapsed": false
   },
   "outputs": [
    {
     "data": {
      "image/png": "[encoded data removed]",
      "text/plain": [
       "<matplotlib.figure.Figure at 0x7f4e77908710>"
      ]
     },
     "metadata": {},
     "output_type": "display_data"
    }
   ],
   "source": [
    "nstop = np.array([687990+476842+336548+248892+855351,476842+336548+248892+855351,336548+248892+855351,248892+855351,855351])/(687990+476842+336548+248892+855351)\n",
    "plt.scatter([1,2,3,4,5],nstop,label=\"Experiment\")\n",
    "plt.scatter([1,2,3,4,5],rates,label=\"Monte Carlo\")\n",
    "plt.xlabel(\"scintillator number\")\n",
    "plt.ylabel(\"relative Rate\")\n",
    "plt.legend()\n",
    "plt.savefig('figures/relativeRate_exp.pdf',format='pdf')\n",
    "\n"
   ]
  },
  {
   "cell_type": "code",
   "execution_count": 27,
   "metadata": {
    "collapsed": false
   },
   "outputs": [
    {
     "data": {
      "text/plain": [
       "<matplotlib.collections.PathCollection at 0x7f4e777e7710>"
      ]
     },
     "execution_count": 27,
     "metadata": {},
     "output_type": "execute_result"
    },
    {
     "data": {
      "image/png": "[encoded data removed]",
      "text/plain": [
       "<matplotlib.figure.Figure at 0x7f4e779ae908>"
      ]
     },
     "metadata": {},
     "output_type": "display_data"
    }
   ],
   "source": [
    "plt.scatter([1,2,3,4,5],nstop-rates,label=\"Experiment\")\n"
   ]
  },
  {
   "cell_type": "code",
   "execution_count": null,
   "metadata": {
    "collapsed": true
   },
   "outputs": [],
   "source": []
  }
 ],
 "metadata": {
  "kernelspec": {
   "display_name": "Python 3",
   "language": "python",
   "name": "python3"
  },
  "language_info": {
   "codemirror_mode": {
    "name": "ipython",
    "version": 3
   },
   "file_extension": ".py",
   "mimetype": "text/x-python",
   "name": "python",
   "nbconvert_exporter": "python",
   "pygments_lexer": "ipython3",
   "version": "3.6.0"
  }
 },
 "nbformat": 4,
 "nbformat_minor": 2
}
