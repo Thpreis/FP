{
 "cells": [
  {
   "cell_type": "code",
   "execution_count": 1,
   "metadata": {
    "collapsed": true
   },
   "outputs": [],
   "source": [
    "%matplotlib inline\n",
    "import matplotlib.pyplot as plt\n",
    "import numpy as np\n",
    "from numpy import exp, sqrt, mean, floor, log10\n",
    "from scipy.optimize import curve_fit"
   ]
  },
  {
   "cell_type": "code",
   "execution_count": null,
   "metadata": {
    "collapsed": true
   },
   "outputs": [],
   "source": [
    "#Messprotokoll\n",
    "#4.2\n",
    "I = np.loadtxt('Thimo_Tobias/King/darks/mediandarkcurrent.txt')\n",
    "T = np.loadtxt('Thimo_Tobias/King/darks/darktemperatures.txt')\n",
    "T+=273.15\n",
    "Bias = np.loadtxt('Thimo_Tobias/King/darks/meddarkB.txt', skiprows=1)\n",
    "dBias= np.loadtxt('Thimo_Tobias/King/darks/stddarkB.txt', skiprows=1)\n",
    "\n",
    "#4.3\n",
    "#x_I, N_I = np.loadtxt('Thimo_Tobias/King/ex 4.3/histogram_I.txt', unpack=True)\n",
    "#x_V, N_V = np.loadtxt('Thimo_Tobias/King/ex 4.3/histogram_V.txt', unpack=True)\n",
    "#x_R, N_R = np.loadtxt('Thimo_Tobias/King/ex 4.3/histogram_R.txt', unpack=True)\n",
    "\n",
    "#4.4\n",
    "t_I, n_I, dn_I = np.loadtxt('Thimo_Tobias/King/linearity/exposuretimes.txt'), np.loadtxt('Thimo_Tobias/King/linearity/medflatIRange_norm.txt',skiprows=1), np.loadtxt('Thimo_Tobias/King/linearity/stdflatIRange_norm.txt',skiprows=1)\n",
    "t_V, n_V, dn_V = np.loadtxt('Thimo_Tobias/King/linearity/exposuretimesV.txt'), np.loadtxt('Thimo_Tobias/King/linearity/medflatVall_norm.txt',skiprows=1), np.loadtxt('Thimo_Tobias/King/linearity/stdflatVall_norm.txt',skiprows=1)\n",
    "\n",
    "#4.5\n",
    "d2_r = np.loadtxt('Thimo_Tobias/King/sensitivity/readoutnoise2.txt', skiprows=1)\n",
    "d2_t = np.loadtxt('Thimo_Tobias/King/sensitivity/totalnoise2.txt', skiprows=1)\n",
    "#N_6 = np.loadtxt('Thimo_Tobias/King/sensitivity/medsignal1.txt', skiprows=1)\n",
    "#d2_d = np.loadtxt('Thimo_Tobias/King/sensitivity/differencenoiseall.txt', skiprows=1)\n",
    "\n",
    "N = np.loadtxt('Thimo_Tobias/King/sensitivity/medsignal1.txt')\n",
    "dN= np.loadtxt('Thimo_Tobias/King/sensitivity/differencenoiseall.txt', skiprows=1)"
   ]
  },
  {
   "cell_type": "code",
   "execution_count": null,
   "metadata": {
    "collapsed": true
   },
   "outputs": [],
   "source": [
    "#4.2\n",
    "k = 8.617e-5\n",
    "x=np.linspace(158, 275, 1000)\n",
    "x2=np.linspace(3.5e-3, 5.25e-3, 1000)\n",
    "def Int1(t, c, Eg):\n",
    "    return c*t**(3/2)*exp(-Eg/(2*k*t))\n",
    "def Int2(t, c, Eg):\n",
    "    return c*exp(-Eg*t/(2*k))\n",
    "\n",
    "plt.figure()\n",
    "plt.errorbar(T, I, yerr=sqrt(abs(I)), fmt='.')\n",
    "popt, pcov = curve_fit(Int1, T, I, sigma=sqrt(abs(I)), p0=[7e11, 1.18])\n",
    "\n",
    "plt.plot(x,Int1(x, *popt))\n",
    "plt.title('Temperature dependency of the dark current')\n",
    "plt.xlabel('T [K]')\n",
    "plt.ylabel('dark current [counts]')\n",
    "plt.savefig('diag1.pdf', format='PDF')\n",
    "\n",
    "plt.figure()\n",
    "plt.errorbar(1/T*1e3, I*T**(-3/2), yerr=sqrt(abs(I))*T**(-3/2), fmt='.')\n",
    "popt2, pcov2 = curve_fit(Int2, 1/T, I*T**(-3/2), sigma=sqrt(abs(I))*T**(-3/2), p0=[1e10, 1.2])\n",
    "plt.plot(x2*1e3,Int2(x2, *popt2))\n",
    "\n",
    "Eg = round(popt2[1],3)\n",
    "dEg= round(sqrt(pcov2[1,1]), 3)\n",
    "co = popt2[0]\n",
    "\n",
    "plt.annotate(r'$y={} \\cdot 10^{{{}}} \\cdot exp(-{}x)$'.format(int(round(co/10**floor(log10(co)), 2)), int(floor(log10(co))), int(floor(round(Eg/2/k)))), (4.4, 1), color='C1')\n",
    "plt.annotate('$E_g = ({} \\pm {})$'.format(Eg, dEg), (4.4,0.5))\n",
    "plt.yscale('log')\n",
    "plt.xlim(3.5, 5.25)\n",
    "plt.ylim(1e-4, 10)\n",
    "plt.title('Determination of the band gap')\n",
    "plt.xlabel('$mT^{-1}$[$K^{-1}$]')\n",
    "plt.ylabel(r'$I \\cdot T^{-3/2}$ [$counts \\cdot K^{-3/2}$]')\n",
    "plt.savefig('diag2.pdf', format='PDF')\n",
    "\n",
    "\n",
    "print('Eg = ({}±{})eV'.format(Eg, dEg))\n",
    "print('med-Bias start: {} ± {}'.format(int(round(Bias[0])), int(round(dBias[0]))))\n",
    "print('med-Bias end: {} ± {}'.format(round(Bias[-1], 1), round(dBias[-1], 1)))"
   ]
  },
  {
   "cell_type": "code",
   "execution_count": null,
   "metadata": {
    "collapsed": true
   },
   "outputs": [],
   "source": [
    "#4.4\n",
    "plt.figure()\n",
    "def lin(x, m, b):\n",
    "    return m*x+b\n",
    "\n",
    "x3 = np.linspace(0, 8, 100)\n",
    "plt.errorbar(t_I, n_I, dn_I, fmt='.')\n",
    "popt3, pcov3 = curve_fit(lin, t_I[:-4], n_I[:-4], sigma=dn_I[:-4])\n",
    "plt.plot(x3, lin(x3, *popt3))\n",
    "plt.annotate('relative error = {}'.format(round(sqrt(pcov3[0,0])/popt3[0], 4)), (1, 50e3))\n",
    "plt.annotate('saturation at ~{}'.format(round(mean(n_I[-4:]))), (1, 45e3))\n",
    "plt.title('Liniarity of the CCD-detector I-band')\n",
    "plt.xlabel('Exposuretime [s]')\n",
    "plt.ylabel('Median of the signal [counts]')\n",
    "plt.savefig('liniarity_I.pdf', format='PDF')\n",
    "\n",
    "plt.figure()\n",
    "x4 = np.linspace(0, 55, 100)\n",
    "plt.errorbar(t_V, n_V, dn_V, fmt='.')\n",
    "popt4, pcov4 = curve_fit(lin, t_V[:-2], n_V[:-2], sigma=dn_V[:-2])\n",
    "plt.plot(x4, lin(x4, *popt4))\n",
    "plt.annotate('relative error = {}'.format(round(sqrt(pcov4[0,0])/popt4[0], 4)), (10, 50e3))\n",
    "plt.annotate('saturation at ~{}'.format(round(mean(n_V[-2:]))), (10, 45e3))\n",
    "plt.title('Liniarity of the CCD-detector V-band')\n",
    "plt.xlabel('Exposuretime [s]')\n",
    "plt.ylabel('Median of the signal [counts]')\n",
    "plt.savefig('liniarity_V.pdf', format='PDF')\n"
   ]
  },
  {
   "cell_type": "code",
   "execution_count": null,
   "metadata": {
    "collapsed": true
   },
   "outputs": [],
   "source": [
    "#4.5\n",
    "#photon noise\n",
    "d2_e = 2*d2_d-d2_r\n",
    "d_e = sqrt(mean(d2_e))\n",
    "\n",
    "#read-out noise\n",
    "d_r = sqrt(mean(d2_r))\n",
    "\n",
    "#PRNU noise\n",
    "d2_PRNU = d2_t-d2_e-d2_r\n",
    "d_PRNU = sqrt(mean(d2_PRNU))\n",
    "\n",
    "print('die Fehler:')\n",
    "print('d_e = {}'.format(round(d_e, 1)))\n",
    "print('d_r = {}'.format(round(d_r, 1)))\n",
    "print('d_PRNU = {}'.format(round(d_PRNU, 1)))\n",
    "print()\n",
    "\n",
    "def kap(n, div):\n",
    "    return n/(div/2 - mean(d2_r))\n",
    "\n",
    "plt.errorbar(N/1e3, dN, fmt='.')\n",
    "plt.title('Sensitivity of the detector')\n",
    "plt.xlabel('$N_{e,d}$ in $10^3$ counts')\n",
    "plt.ylabel('$\\sigma^2_{diff,d}$')\n",
    "plt.savefig('sensitivity.pdf', format='PDF')\n",
    "\n",
    "print('Kappa für alle Aufnahmen nach (23):')\n",
    "print(kap(N, dN))\n",
    "np.savetxt('kappa.txt', kap(N, dN))\n",
    "print()\n",
    "\n",
    "#kappa1 = N_6/d2_e\n",
    "print('kappa nach (19), mit Eta = 1:', round(mean(kappa1)))"
   ]
  },
  {
   "cell_type": "code",
   "execution_count": null,
   "metadata": {
    "collapsed": true
   },
   "outputs": [],
   "source": []
  },
  {
   "cell_type": "code",
   "execution_count": null,
   "metadata": {
    "collapsed": true
   },
   "outputs": [],
   "source": []
  },
  {
   "cell_type": "code",
   "execution_count": null,
   "metadata": {
    "collapsed": true
   },
   "outputs": [],
   "source": [
    "#4.3\n",
    "plt.figure()\n",
    "plt.errorbar(x_V, N_V/1e3)\n",
    "plt.title('Histogram Masterflatfield V-band')\n",
    "plt.xlabel('pixel-value')\n",
    "plt.ylabel('number of pixels $\\cdot 10^3$')\n",
    "plt.savefig('histogram_V.pdf', format='PDF')\n",
    "\n",
    "plt.figure()\n",
    "plt.errorbar(x_R, N_R/1e3)\n",
    "plt.title('Histogram Masterflatfield R-band')\n",
    "plt.xlabel('pixel-value')\n",
    "plt.ylabel('number of pixels $\\cdot 10^3$')\n",
    "plt.savefig('histogram_R.pdf', format='PDF')\n",
    "\n",
    "plt.figure()\n",
    "plt.errorbar(x_I, N_I/1e3)\n",
    "plt.title('Histogram Masterflatfield I-band')\n",
    "plt.xlabel('pixel-value')\n",
    "plt.ylabel('number of pixels $\\cdot 10^3$')\n",
    "plt.savefig('histogram_I.pdf', format='PDF')"
   ]
  },
  {
   "cell_type": "code",
   "execution_count": null,
   "metadata": {
    "collapsed": true
   },
   "outputs": [],
   "source": []
  },
  {
   "cell_type": "code",
   "execution_count": null,
   "metadata": {
    "collapsed": true
   },
   "outputs": [],
   "source": []
  },
  {
   "cell_type": "code",
   "execution_count": null,
   "metadata": {
    "collapsed": true
   },
   "outputs": [],
   "source": []
  }
 ],
 "metadata": {
  "anaconda-cloud": {},
  "kernelspec": {
   "display_name": "Python [conda root]",
   "language": "python",
   "name": "conda-root-py"
  },
  "language_info": {
   "codemirror_mode": {
    "name": "ipython",
    "version": 3
   },
   "file_extension": ".py",
   "mimetype": "text/x-python",
   "name": "python",
   "nbconvert_exporter": "python",
   "pygments_lexer": "ipython3",
   "version": "3.5.2"
  }
 },
 "nbformat": 4,
 "nbformat_minor": 1
}
